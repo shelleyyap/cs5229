{
 "cells": [
  {
   "cell_type": "code",
   "execution_count": 1,
   "metadata": {},
   "outputs": [],
   "source": [
    "import matplotlib.pyplot as plt\n",
    "import numpy as np\n",
    "import re\n",
    "import os\n",
    "import seaborn as sns\n",
    "import pandas as pd"
   ]
  },
  {
   "cell_type": "code",
   "execution_count": 2,
   "metadata": {},
   "outputs": [],
   "source": [
    "def parse_ping(txt_file, ignore_time = None):\n",
    "    with open(txt_file, 'r') as f:\n",
    "        txt = f.read()\n",
    "    time_arr = []\n",
    "    for line in txt.strip().split('\\n'):\n",
    "        time = None\n",
    "        icmp_seq = 'icmp_seq='\n",
    "        if (icmp_seq in line):\n",
    "            temp1 = line[line.index(icmp_seq) + len(icmp_seq):]\n",
    "            time = int(temp1[:temp1.index(' ')])\n",
    "        if (ignore_time is not None and time is not None and time <= ignore_time):\n",
    "            try:\n",
    "                temp = float(line[line.index(\"time=\") + 5:].replace(' ms', ''))\n",
    "                time_arr += [temp]\n",
    "            except:\n",
    "                continue\n",
    "    return np.array(time_arr)\n",
    "\n",
    "def parse_server(txt_file):\n",
    "    with open(txt_file, 'r') as f:\n",
    "        txt = f.read()\n",
    "    temp = re.sub(' +', ' ', txt.strip())\n",
    "    string_index_retr = '[ ID] Interval Transfer Bitrate Retr'\n",
    "    string_index = '[ ID] Interval Transfer Bitrate'\n",
    "    if (string_index_retr in temp):\n",
    "        temp2 = temp[temp.index(string_index_retr) + len(string_index_retr):]\n",
    "        temp3 = temp2[temp2.index(string_index_retr) + len(string_index_retr):].strip().split('\\n')[0].split(' ')\n",
    "    else:\n",
    "        temp2 = temp[temp.index(string_index) + len(string_index):]\n",
    "        temp3 = temp2[temp2.index(string_index) + len(string_index):].strip().split('\\n')[0].split(' ')\n",
    "    return str(temp3[4]) + ' ' + temp3[5]"
   ]
  },
  {
   "cell_type": "markdown",
   "metadata": {},
   "source": [
    "# Parse files"
   ]
  },
  {
   "cell_type": "code",
   "execution_count": 3,
   "metadata": {},
   "outputs": [],
   "source": [
    "results_path = 'results/q1'\n",
    "results = {}\n",
    "for file_name in os.listdir(results_path):\n",
    "    file_path = os.path.join(results_path, file_name)\n",
    "    if ('bbr' in file_name):\n",
    "        y_label = int(file_name.split('_')[-1])\n",
    "        if ('client' in file_name):\n",
    "            results['bbr_client_' + str(y_label)] = parse_server(file_path)\n",
    "        elif ('server' in file_name):\n",
    "            results['bbr_server_' + str(y_label)] = parse_server(file_path)\n",
    "        elif ('ping' in file_name):\n",
    "            results['bbr_ping_' + str(y_label)] = parse_ping(file_path, 350).mean()\n",
    "    elif ('cubic' in file_name):\n",
    "        y_label = int(file_name.split('_')[-1])\n",
    "        if ('client' in file_name):\n",
    "            results['cubic_client_' + str(y_label)] = parse_server(file_path)\n",
    "        elif ('server' in file_name):\n",
    "            results['cubic_server_' + str(y_label)] = parse_server(file_path)\n",
    "        elif ('ping' in file_name):\n",
    "            results['cubic_ping_' + str(y_label)] = parse_ping(file_path, 350).mean()"
   ]
  },
  {
   "cell_type": "code",
   "execution_count": 4,
   "metadata": {},
   "outputs": [
    {
     "data": {
      "text/plain": [
       "{'bbr_client_0': '1.91 GBytes',\n",
       " 'bbr_client_1': '1.92 GBytes',\n",
       " 'cubic_client_0': '1.96 GBytes',\n",
       " 'cubic_client_1': '109 MBytes',\n",
       " 'bbr_server_0': '1.90 GBytes',\n",
       " 'bbr_server_1': '1.91 GBytes',\n",
       " 'cubic_server_0': '1.95 GBytes',\n",
       " 'cubic_server_1': '109 MBytes',\n",
       " 'bbr_ping_0': 45.807142857142864,\n",
       " 'bbr_ping_1': 43.3960843373494,\n",
       " 'cubic_ping_0': 774.4499999999999,\n",
       " 'cubic_ping_1': 41.013690476190476}"
      ]
     },
     "execution_count": 4,
     "metadata": {},
     "output_type": "execute_result"
    }
   ],
   "source": [
    "results"
   ]
  },
  {
   "cell_type": "code",
   "execution_count": null,
   "metadata": {},
   "outputs": [],
   "source": []
  }
 ],
 "metadata": {
  "kernelspec": {
   "display_name": "Python 3",
   "language": "python",
   "name": "python3"
  },
  "language_info": {
   "codemirror_mode": {
    "name": "ipython",
    "version": 3
   },
   "file_extension": ".py",
   "mimetype": "text/x-python",
   "name": "python",
   "nbconvert_exporter": "python",
   "pygments_lexer": "ipython3",
   "version": "3.8.3"
  }
 },
 "nbformat": 4,
 "nbformat_minor": 4
}
